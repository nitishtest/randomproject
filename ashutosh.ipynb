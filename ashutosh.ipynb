{
 "cells": [
  {
   "cell_type": "markdown",
   "metadata": {},
   "source": [
    "# Day5 - 21.07.21 - Python Basics"
   ]
  },
  {
   "cell_type": "markdown",
   "metadata": {},
   "source": [
    "How variable names are taken in Python;\n",
    "\n",
    "\n",
    "1. variable names can be any length\n",
    "2. variable names shall contain numbers alphabets and _\n",
    "3. it shall not contain any spaces\n",
    "4. it shall not start with numbers\n",
    "5. it shall not contain any spl char\n",
    "6. variable name shall not be a keyword\n"
   ]
  },
  {
   "cell_type": "code",
   "execution_count": null,
   "metadata": {},
   "outputs": [],
   "source": []
  },
  {
   "cell_type": "code",
   "execution_count": null,
   "metadata": {},
   "outputs": [],
   "source": [
    "# 1. variable names can be any length\n",
    "\n",
    "yourFirstClassVariable = 100\n",
    "yourVariable = 100\n",
    "V = 100\n",
    "\n",
    "# print(\"Delhi\")"
   ]
  },
  {
   "cell_type": "code",
   "execution_count": null,
   "metadata": {},
   "outputs": [],
   "source": [
    "# 2. variable names shall contain numbers alphabets and _\n",
    "\n",
    "your_variable = 100\n",
    "var23 = 23\n"
   ]
  },
  {
   "cell_type": "code",
   "execution_count": null,
   "metadata": {},
   "outputs": [],
   "source": [
    "# 3. it shall not contain any spaces\n",
    "\n",
    "your variable = 100"
   ]
  },
  {
   "cell_type": "code",
   "execution_count": null,
   "metadata": {},
   "outputs": [],
   "source": [
    "# 4. it shall not start with numbers\n",
    "\n",
    "# 25var = \"hi\"\n",
    "\n",
    "_var = \"hi\""
   ]
  },
  {
   "cell_type": "code",
   "execution_count": null,
   "metadata": {},
   "outputs": [],
   "source": [
    "# 5. it shall not contain any spl char\n",
    "\n",
    "# var$5 = 25\n",
    "\n",
    "var5 = 25\n",
    "\n",
    "var_5 = 25\n",
    "\n",
    "# x@place = 25\n",
    "\n",
    "#  group-class = 60"
   ]
  },
  {
   "cell_type": "code",
   "execution_count": null,
   "metadata": {},
   "outputs": [],
   "source": [
    "# 6. variable name shall not be a keyword\n",
    "\n",
    "# print = 100\n",
    "\n",
    "# break = 500\n",
    "\n",
    "# class = 'place'\n",
    "\n",
    "# while = 60.33\n"
   ]
  },
  {
   "cell_type": "code",
   "execution_count": null,
   "metadata": {},
   "outputs": [],
   "source": [
    "import keyword"
   ]
  },
  {
   "cell_type": "code",
   "execution_count": null,
   "metadata": {},
   "outputs": [],
   "source": [
    "print(keyword.kwlist)"
   ]
  },
  {
   "cell_type": "code",
   "execution_count": null,
   "metadata": {},
   "outputs": [],
   "source": [
    "print(len(keyword.kwlist))"
   ]
  },
  {
   "cell_type": "code",
   "execution_count": null,
   "metadata": {},
   "outputs": [],
   "source": [
    "# display anythong on the output screen\n",
    "\n",
    "print()"
   ]
  },
  {
   "cell_type": "markdown",
   "metadata": {},
   "source": [
    "### Jupyter Benefits\n",
    "\n",
    "\n",
    "1. last line in the code cell is displayed as the output, if it has the return type\n",
    "2. Run any cell at any time. Cells are run in sequential order\n",
    "3. operation, datatype - list of menu = context menu : \n",
    "    math. press tab\n",
    "4. smart suggestions"
   ]
  },
  {
   "cell_type": "code",
   "execution_count": null,
   "metadata": {},
   "outputs": [],
   "source": [
    "a = 100\n",
    "\n",
    "b = 25\n",
    "\n",
    "mul_ = a * b\n",
    "\n",
    "div_ = a / b\n",
    "\n",
    "print(mul_)\n",
    "\n",
    "print(div_)"
   ]
  },
  {
   "cell_type": "code",
   "execution_count": null,
   "metadata": {},
   "outputs": [],
   "source": [
    "a = 100\n",
    "\n",
    "b = 25\n",
    "\n",
    "mul_ = a * b\n",
    "\n",
    "div_ = a / b\n",
    "\n",
    "mul_\n",
    "\n",
    "div_\n",
    "\n",
    "# work done\n",
    "diff_ = a - b\n",
    "diff_"
   ]
  },
  {
   "cell_type": "code",
   "execution_count": null,
   "metadata": {},
   "outputs": [],
   "source": [
    "# print(diff_ = a - b)"
   ]
  },
  {
   "cell_type": "code",
   "execution_count": null,
   "metadata": {},
   "outputs": [],
   "source": []
  },
  {
   "cell_type": "code",
   "execution_count": null,
   "metadata": {},
   "outputs": [],
   "source": [
    "import sys"
   ]
  },
  {
   "cell_type": "markdown",
   "metadata": {},
   "source": [
    "# Datatypes  \n",
    "\n",
    "**fundamental**\n",
    "1. string\n",
    "2. numbers - integer, float, complex\n",
    "3. boolean - True, False\n",
    "4. byte and byte array\n",
    "\n",
    "**derived**\n",
    "1. list - collection of elements of different datatpes. it is represented by []\n",
    "2. tuple - collection of elements of different datatpes. it is represented by ()\n",
    "3. sets - collection of elements of unique different datatpes. it is represented by {''}\n",
    "4. range - collection of numbers from start to end. range()\n",
    "5. dictionary - collection of keys and values. it is represented by {key : value}\n",
    "\n",
    "\n"
   ]
  },
  {
   "cell_type": "markdown",
   "metadata": {},
   "source": [
    "**1. string**\n",
    "\n",
    " - it is a collection of characters\n",
    " - it is written in a pair of single ('') or double quotes (\" \")\n",
    " - single line comments are taken as # (pound) sign\n",
    " - multi line comments are taken in a pair of \"\"\" \"\"\" or ''' '''\n",
    " "
   ]
  },
  {
   "cell_type": "code",
   "execution_count": null,
   "metadata": {},
   "outputs": [],
   "source": [
    "word1 = \"Delhi\"    # char word = \"place\"\n",
    "\n",
    "word2 = 'Mumbai'\n",
    "\n",
    "print(word1)\n",
    "print(type(word1))\n",
    "print(sys.getsizeof(word1))\n",
    "\n",
    "\n",
    "print(word2)\n",
    "print(type(word2))\n",
    "print(sys.getsizeof(word2))\n"
   ]
  },
  {
   "cell_type": "code",
   "execution_count": null,
   "metadata": {},
   "outputs": [],
   "source": [
    "msg = \"Welcome to the String topic. 2021 batch. @$%%^&*()\"\n",
    "\n",
    "print(msg)\n",
    "\n",
    "print(type(msg))\n",
    "\n",
    "print(sys.getsizeof(msg))"
   ]
  },
  {
   "cell_type": "code",
   "execution_count": null,
   "metadata": {},
   "outputs": [],
   "source": [
    "# single line comment\n",
    "a = 100\n",
    "# ######################## Comment\n",
    "b = 25\n",
    "###c jkkj  ek eck e\n",
    "print(a / b)\n",
    "## "
   ]
  },
  {
   "cell_type": "code",
   "execution_count": null,
   "metadata": {},
   "outputs": [],
   "source": [
    "\n",
    "'''\n",
    "word1 = \"Delhi\"    # char word = \"place\"\n",
    "print(word1)\n",
    "print(type(word1))\n",
    "print(sys.getsizeof(word1))\n",
    "'''\n",
    "\n",
    "\"\"\"\n",
    "word2 = 'Mumbai'\n",
    "print(word2)\n",
    "print(type(word2))\n",
    "print(sys.getsizeof(word2))\n",
    "\"\"\"\n",
    "print(4 * 9)"
   ]
  },
  {
   "cell_type": "code",
   "execution_count": null,
   "metadata": {},
   "outputs": [],
   "source": [
    "\"\"\"\n",
    "Dear friend,\n",
    "\n",
    "Thank you for signing up.\n",
    "\n",
    "Hope You enjoy our APP\n",
    "\n",
    "Regards\n",
    "TEam ABC\n",
    "\"\"\"\n",
    "\n"
   ]
  },
  {
   "cell_type": "code",
   "execution_count": null,
   "metadata": {},
   "outputs": [],
   "source": [
    "print(\"Dear friend, Thank you for signing up. Hope You enjoy our APP Regards TEam ABC \")"
   ]
  },
  {
   "cell_type": "code",
   "execution_count": null,
   "metadata": {},
   "outputs": [],
   "source": [
    "print(\"\"\"\n",
    "Dear friend,\n",
    "\n",
    "Thank you for signing up.\n",
    "\n",
    "Hope You enjoy our APP\n",
    "\n",
    "Regards\n",
    "TEam ABC\n",
    "\"\"\")"
   ]
  },
  {
   "cell_type": "code",
   "execution_count": null,
   "metadata": {},
   "outputs": [],
   "source": [
    "print(\"\"\"\n",
    "Welcoome to Mart ; \n",
    "\n",
    "Choose your product from below : \n",
    "\n",
    "    1. Mango\n",
    "        2. Apple\n",
    "                            3. Grapes\n",
    "\n",
    "\n",
    "\"\"\"\n",
    ")"
   ]
  },
  {
   "cell_type": "code",
   "execution_count": null,
   "metadata": {},
   "outputs": [],
   "source": [
    "print(\"Dear friend, \\nThank you for signing up. \\nHope You enjoy our APP \\nRegards \\nTEam ABC \")"
   ]
  },
  {
   "cell_type": "code",
   "execution_count": null,
   "metadata": {},
   "outputs": [],
   "source": [
    "print(\"Dear friend, \\nThank you for signing up. \\t\\t\\t Hope You enjoy our APP \\nRegards \\t\\tTEam ABC \")"
   ]
  },
  {
   "cell_type": "code",
   "execution_count": null,
   "metadata": {},
   "outputs": [],
   "source": [
    "print(\"Thank's for signing up\")"
   ]
  },
  {
   "cell_type": "code",
   "execution_count": null,
   "metadata": {},
   "outputs": [],
   "source": [
    "print('Thank\"s for signing up')"
   ]
  },
  {
   "cell_type": "code",
   "execution_count": null,
   "metadata": {},
   "outputs": [],
   "source": [
    "print('Thank\"s\" \" \" \" \" \" \" for signing up')"
   ]
  },
  {
   "cell_type": "code",
   "execution_count": null,
   "metadata": {},
   "outputs": [],
   "source": [
    "# print('Thank's 'fo'r 's'i'g'n'ing up')"
   ]
  },
  {
   "cell_type": "code",
   "execution_count": null,
   "metadata": {},
   "outputs": [],
   "source": []
  },
  {
   "cell_type": "markdown",
   "metadata": {},
   "source": [
    "**2. numbers - integer, float, complex**\n",
    "\n",
    "integer - discrete, whole\n",
    "\n",
    "float - decimal\n",
    "\n",
    "complex - real & imaginary, a + bj"
   ]
  },
  {
   "cell_type": "code",
   "execution_count": null,
   "metadata": {},
   "outputs": [],
   "source": [
    "num = 45\n",
    "type(num)"
   ]
  },
  {
   "cell_type": "code",
   "execution_count": null,
   "metadata": {},
   "outputs": [],
   "source": [
    "f1 = 45.0\n",
    "type(f1)"
   ]
  },
  {
   "cell_type": "code",
   "execution_count": null,
   "metadata": {},
   "outputs": [],
   "source": [
    "c1 = 45\n",
    "type(c1)"
   ]
  },
  {
   "cell_type": "code",
   "execution_count": null,
   "metadata": {},
   "outputs": [],
   "source": [
    "c2 = 45j   # 0 + 45j\n",
    "type(c2)"
   ]
  },
  {
   "cell_type": "code",
   "execution_count": null,
   "metadata": {},
   "outputs": [],
   "source": [
    "c3 = 45 + 45j\n",
    "type(c3)"
   ]
  },
  {
   "cell_type": "code",
   "execution_count": 28,
   "metadata": {},
   "outputs": [],
   "source": [
    "# math.real(45 + 3j)\n"
   ]
  },
  {
   "cell_type": "code",
   "execution_count": null,
   "metadata": {},
   "outputs": [],
   "source": [
    "print(num * f1)\n",
    "\n",
    "print(num * c1)\n",
    "\n",
    "print(num * c2)\n",
    "\n",
    "print(num * c3)"
   ]
  },
  {
   "cell_type": "code",
   "execution_count": null,
   "metadata": {},
   "outputs": [],
   "source": [
    "7 * 9 - 6 + 12 * 9 ** 0.5"
   ]
  },
  {
   "cell_type": "code",
   "execution_count": null,
   "metadata": {},
   "outputs": [],
   "source": [
    "(7 * 9) - (6 + 12) * 9 ** 0.5"
   ]
  },
  {
   "cell_type": "code",
   "execution_count": 1,
   "metadata": {},
   "outputs": [
    {
     "data": {
      "text/plain": [
       "-18"
      ]
     },
     "execution_count": 1,
     "metadata": {},
     "output_type": "execute_result"
    }
   ],
   "source": [
    "abc = 6 * (- 3)\n",
    "abc"
   ]
  },
  {
   "cell_type": "code",
   "execution_count": 9,
   "metadata": {},
   "outputs": [],
   "source": [
    "# called a library to perform math operations\n",
    "\n",
    "import math"
   ]
  },
  {
   "cell_type": "code",
   "execution_count": 10,
   "metadata": {},
   "outputs": [
    {
     "data": {
      "text/plain": [
       "3.0"
      ]
     },
     "execution_count": 10,
     "metadata": {},
     "output_type": "execute_result"
    }
   ],
   "source": [
    "math.sqrt(9)"
   ]
  },
  {
   "cell_type": "code",
   "execution_count": 11,
   "metadata": {
    "scrolled": true
   },
   "outputs": [
    {
     "data": {
      "text/plain": [
       "3.0"
      ]
     },
     "execution_count": 11,
     "metadata": {},
     "output_type": "execute_result"
    }
   ],
   "source": [
    "9 ** 0.5"
   ]
  },
  {
   "cell_type": "code",
   "execution_count": 12,
   "metadata": {},
   "outputs": [
    {
     "data": {
      "text/plain": [
       "2.718281828459045"
      ]
     },
     "execution_count": 12,
     "metadata": {},
     "output_type": "execute_result"
    }
   ],
   "source": [
    "math.exp(1)"
   ]
  },
  {
   "cell_type": "code",
   "execution_count": 13,
   "metadata": {},
   "outputs": [
    {
     "data": {
      "text/plain": [
       "6"
      ]
     },
     "execution_count": 13,
     "metadata": {},
     "output_type": "execute_result"
    }
   ],
   "source": [
    "math.floor(6.99)"
   ]
  },
  {
   "cell_type": "code",
   "execution_count": 14,
   "metadata": {},
   "outputs": [
    {
     "data": {
      "text/plain": [
       "7"
      ]
     },
     "execution_count": 14,
     "metadata": {},
     "output_type": "execute_result"
    }
   ],
   "source": [
    "math.ceil(6.1)"
   ]
  },
  {
   "cell_type": "code",
   "execution_count": 16,
   "metadata": {},
   "outputs": [],
   "source": [
    "# round(6.999999, 1)"
   ]
  },
  {
   "cell_type": "code",
   "execution_count": 18,
   "metadata": {},
   "outputs": [
    {
     "name": "stdout",
     "output_type": "stream",
     "text": [
      "0.8623188722876839\n"
     ]
    }
   ],
   "source": [
    "print(math.cos(100))"
   ]
  },
  {
   "cell_type": "code",
   "execution_count": 21,
   "metadata": {},
   "outputs": [],
   "source": [
    "# abs(-16)"
   ]
  },
  {
   "cell_type": "code",
   "execution_count": 22,
   "metadata": {},
   "outputs": [
    {
     "data": {
      "text/plain": [
       "32.0"
      ]
     },
     "execution_count": 22,
     "metadata": {},
     "output_type": "execute_result"
    }
   ],
   "source": [
    "math.pow(2, 5)"
   ]
  },
  {
   "cell_type": "code",
   "execution_count": 23,
   "metadata": {},
   "outputs": [],
   "source": [
    "num1 = 10\n",
    "num2 = 100"
   ]
  },
  {
   "cell_type": "code",
   "execution_count": 24,
   "metadata": {},
   "outputs": [
    {
     "data": {
      "text/plain": [
       "3628800"
      ]
     },
     "execution_count": 24,
     "metadata": {},
     "output_type": "execute_result"
    }
   ],
   "source": [
    "math.factorial(num1)"
   ]
  },
  {
   "cell_type": "code",
   "execution_count": null,
   "metadata": {},
   "outputs": [],
   "source": []
  },
  {
   "cell_type": "markdown",
   "metadata": {},
   "source": [
    "## 3. boolean - True, False\n",
    "\n",
    "\n",
    " - used to check the output of operations\n",
    " \n",
    " - 1 : True\n",
    " - 0 : False"
   ]
  },
  {
   "cell_type": "code",
   "execution_count": 29,
   "metadata": {},
   "outputs": [],
   "source": [
    "# < > , and , or, ==\n",
    "\n"
   ]
  },
  {
   "cell_type": "code",
   "execution_count": 30,
   "metadata": {},
   "outputs": [],
   "source": [
    "num2 = 100"
   ]
  },
  {
   "cell_type": "code",
   "execution_count": 31,
   "metadata": {},
   "outputs": [
    {
     "data": {
      "text/plain": [
       "True"
      ]
     },
     "execution_count": 31,
     "metadata": {},
     "output_type": "execute_result"
    }
   ],
   "source": [
    "num2 == 100"
   ]
  },
  {
   "cell_type": "code",
   "execution_count": 35,
   "metadata": {},
   "outputs": [
    {
     "data": {
      "text/plain": [
       "False"
      ]
     },
     "execution_count": 35,
     "metadata": {},
     "output_type": "execute_result"
    }
   ],
   "source": [
    "res = num2 == '100'\n",
    "res"
   ]
  },
  {
   "cell_type": "code",
   "execution_count": 34,
   "metadata": {},
   "outputs": [
    {
     "data": {
      "text/plain": [
       "bool"
      ]
     },
     "execution_count": 34,
     "metadata": {},
     "output_type": "execute_result"
    }
   ],
   "source": [
    "type(res)\n"
   ]
  },
  {
   "cell_type": "code",
   "execution_count": 38,
   "metadata": {},
   "outputs": [
    {
     "data": {
      "text/plain": [
       "int"
      ]
     },
     "execution_count": 38,
     "metadata": {},
     "output_type": "execute_result"
    }
   ],
   "source": [
    "type(1)"
   ]
  },
  {
   "cell_type": "code",
   "execution_count": 37,
   "metadata": {},
   "outputs": [
    {
     "data": {
      "text/plain": [
       "str"
      ]
     },
     "execution_count": 37,
     "metadata": {},
     "output_type": "execute_result"
    }
   ],
   "source": [
    "type('10')"
   ]
  },
  {
   "cell_type": "code",
   "execution_count": 51,
   "metadata": {},
   "outputs": [
    {
     "name": "stdout",
     "output_type": "stream",
     "text": [
      "This is amazing session\n"
     ]
    }
   ],
   "source": [
    "if 1 : \n",
    "    print(\"This is amazing session\")\n",
    "else : \n",
    "    print(\"BORING..!!!\")"
   ]
  },
  {
   "cell_type": "code",
   "execution_count": 54,
   "metadata": {},
   "outputs": [
    {
     "name": "stdout",
     "output_type": "stream",
     "text": [
      "BORING..!!!\n"
     ]
    }
   ],
   "source": [
    "if 0 : \n",
    "    print(\"This is amazing session\")\n",
    "else : \n",
    "    print(\"BORING..!!!\")"
   ]
  },
  {
   "cell_type": "code",
   "execution_count": null,
   "metadata": {},
   "outputs": [],
   "source": []
  },
  {
   "cell_type": "markdown",
   "metadata": {},
   "source": [
    "### 4. byte and byte array"
   ]
  },
  {
   "cell_type": "code",
   "execution_count": 56,
   "metadata": {},
   "outputs": [
    {
     "name": "stdout",
     "output_type": "stream",
     "text": [
      "436906\n"
     ]
    }
   ],
   "source": [
    "bin_1 = 0b1101010101010101010\n",
    "\n",
    "print(bin_1)\n"
   ]
  },
  {
   "cell_type": "code",
   "execution_count": 57,
   "metadata": {},
   "outputs": [
    {
     "data": {
      "text/plain": [
       "True"
      ]
     },
     "execution_count": 57,
     "metadata": {},
     "output_type": "execute_result"
    }
   ],
   "source": [
    "436906 == bin_1"
   ]
  },
  {
   "cell_type": "code",
   "execution_count": 59,
   "metadata": {},
   "outputs": [
    {
     "name": "stdout",
     "output_type": "stream",
     "text": [
      "172\n"
     ]
    }
   ],
   "source": [
    "oct_1 = 0o254\n",
    "print(oct_1)\n",
    "\n",
    "### 8^0 * 4 + 8^1 * 5 + 8^2 * 2 = 4 + 40 + 128 = 172\n"
   ]
  },
  {
   "cell_type": "code",
   "execution_count": 62,
   "metadata": {},
   "outputs": [
    {
     "name": "stdout",
     "output_type": "stream",
     "text": [
      "268\n"
     ]
    }
   ],
   "source": [
    "hex_1 = 0x10c\n",
    "\n",
    "print(hex_1)   # 12 + 0+ 256 = 268"
   ]
  },
  {
   "cell_type": "code",
   "execution_count": 63,
   "metadata": {},
   "outputs": [
    {
     "data": {
      "text/plain": [
       "'0o414'"
      ]
     },
     "execution_count": 63,
     "metadata": {},
     "output_type": "execute_result"
    }
   ],
   "source": [
    "oct(hex_1)"
   ]
  },
  {
   "cell_type": "code",
   "execution_count": null,
   "metadata": {},
   "outputs": [],
   "source": []
  },
  {
   "cell_type": "markdown",
   "metadata": {},
   "source": [
    "1. list - collection of elements of different datatpes. it is represented by []\n",
    "2. tuple - collection of elements of different datatpes. it is represented by ()\n",
    "3. sets - collection of elements of unique different datatpes. it is represented by {''}\n",
    "4. range - collection of numbers from start to end. range()\n",
    "5. dictionary - collection of keys and values. it is represented by {key : value}\n",
    "6. array - collection of elements of similar datatypes. it is represented by []"
   ]
  },
  {
   "cell_type": "code",
   "execution_count": 69,
   "metadata": {},
   "outputs": [
    {
     "name": "stdout",
     "output_type": "stream",
     "text": [
      "[8, 't', 'hello everyone', False, 9.99, (6+6j), 5, 8, 8]\n",
      "<class 'list'>\n"
     ]
    }
   ],
   "source": [
    "listName = [8, \"t\", \"hello everyone\", False, 9.99, 6 + 6j, 0b101, 8, 8]\n",
    "\n",
    "print(listName)\n",
    "print(type(listName))\n"
   ]
  },
  {
   "cell_type": "code",
   "execution_count": 70,
   "metadata": {},
   "outputs": [
    {
     "name": "stdout",
     "output_type": "stream",
     "text": [
      "(8, 't', 'hello everyone', False, 9.99, (6+6j), 5, 8, 8)\n",
      "<class 'tuple'>\n"
     ]
    }
   ],
   "source": [
    "tupleName = (8, \"t\", \"hello everyone\", False, 9.99, 6 + 6j, 0b101,  8, 8)\n",
    "\n",
    "print(tupleName)\n",
    "print(type(tupleName))\n"
   ]
  },
  {
   "cell_type": "code",
   "execution_count": 71,
   "metadata": {},
   "outputs": [
    {
     "name": "stdout",
     "output_type": "stream",
     "text": [
      "{False, 'hello everyone', 4, 8, 9.99, (6+6j), 't'}\n",
      "<class 'set'>\n"
     ]
    }
   ],
   "source": [
    "setName = {8, \"t\", \"hello everyone\", False, 9.99, 6 + 6j, 0b100, 8, 8}\n",
    "\n",
    "print(setName)\n",
    "print(type(setName))\n"
   ]
  },
  {
   "cell_type": "code",
   "execution_count": 73,
   "metadata": {},
   "outputs": [
    {
     "data": {
      "text/plain": [
       "[1, 2, 3, 4, 5, 6, 7, 8, 9, 10, 11, 12, 13, 14, 15, 16, 17, 18, 19]"
      ]
     },
     "execution_count": 73,
     "metadata": {},
     "output_type": "execute_result"
    }
   ],
   "source": [
    "list(range(1, 20))"
   ]
  },
  {
   "cell_type": "code",
   "execution_count": 74,
   "metadata": {},
   "outputs": [
    {
     "name": "stdout",
     "output_type": "stream",
     "text": [
      "{'k1': 12, 'k2': 100}\n",
      "<class 'dict'>\n"
     ]
    }
   ],
   "source": [
    "dtName = {'k1' : 12, \n",
    "         \"k2\" : 100}\n",
    "\n",
    "print(dtName)\n",
    "print(type(dtName))"
   ]
  },
  {
   "cell_type": "code",
   "execution_count": null,
   "metadata": {},
   "outputs": [],
   "source": []
  },
  {
   "cell_type": "code",
   "execution_count": null,
   "metadata": {},
   "outputs": [],
   "source": [
    "# operations - arithmetic, relation, logical, string, if else"
   ]
  },
  {
   "cell_type": "code",
   "execution_count": 79,
   "metadata": {},
   "outputs": [
    {
     "data": {
      "text/plain": [
       "3"
      ]
     },
     "execution_count": 79,
     "metadata": {},
     "output_type": "execute_result"
    }
   ],
   "source": [
    "6+ +-3   # 6 + (+(-3))"
   ]
  },
  {
   "cell_type": "code",
   "execution_count": null,
   "metadata": {},
   "outputs": [],
   "source": []
  },
  {
   "cell_type": "code",
   "execution_count": null,
   "metadata": {},
   "outputs": [],
   "source": []
  }
 ],
 "metadata": {
  "kernelspec": {
   "display_name": "Python 3",
   "language": "python",
   "name": "python3"
  },
  "language_info": {
   "codemirror_mode": {
    "name": "ipython",
    "version": 3
   },
   "file_extension": ".py",
   "mimetype": "text/x-python",
   "name": "python",
   "nbconvert_exporter": "python",
   "pygments_lexer": "ipython3",
   "version": "3.8.8"
  }
 },
 "nbformat": 4,
 "nbformat_minor": 4
}
